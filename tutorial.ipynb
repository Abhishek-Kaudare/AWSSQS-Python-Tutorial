{
 "cells": [
  {
   "cell_type": "markdown",
   "metadata": {},
   "source": [
    "# Getting started with SQS Queue AWS\n"
   ]
  },
  {
   "cell_type": "code",
   "execution_count": 34,
   "metadata": {},
   "outputs": [],
   "source": [
    "import boto3\n",
    "client = boto3.resource('sqs', region_name='us-east-1',\n",
    "                    aws_access_key_id=\"AWS ACCESS KEY GOES HERE\", \n",
    "                    aws_secret_access_key=\"SCRETE KEY GOES HERE\")"
   ]
  },
  {
   "cell_type": "code",
   "execution_count": 35,
   "metadata": {},
   "outputs": [
    {
     "data": {
      "text/plain": [
       "sqs.ServiceResource()"
      ]
     },
     "execution_count": 35,
     "metadata": {},
     "output_type": "execute_result"
    }
   ],
   "source": [
    "client"
   ]
  },
  {
   "cell_type": "markdown",
   "metadata": {},
   "source": [
    "# send Message "
   ]
  },
  {
   "cell_type": "code",
   "execution_count": 39,
   "metadata": {},
   "outputs": [],
   "source": [
    "queue = client.get_queue_by_name(QueueName='QUEUE NAME GOES HERE ')"
   ]
  },
  {
   "cell_type": "code",
   "execution_count": 40,
   "metadata": {},
   "outputs": [],
   "source": [
    "response = queue.send_message(MessageBody='Hello World from Python !')"
   ]
  },
  {
   "cell_type": "code",
   "execution_count": 41,
   "metadata": {},
   "outputs": [
    {
     "data": {
      "text/plain": [
       "{'MD5OfMessageBody': 'eeb165f292fb4b7c8dbe4838b2940a6f',\n",
       " 'MessageId': '47d672e5-5e79-431f-9427-ced20b3a0147',\n",
       " 'ResponseMetadata': {'RequestId': '67c476a8-6bdf-55fd-ad05-207dd6390ce7',\n",
       "  'HTTPStatusCode': 200,\n",
       "  'HTTPHeaders': {'x-amzn-requestid': '67c476a8-6bdf-55fd-ad05-207dd6390ce7',\n",
       "   'date': 'Sun, 01 Mar 2020 13:41:58 GMT',\n",
       "   'content-type': 'text/xml',\n",
       "   'content-length': '378'},\n",
       "  'RetryAttempts': 0}}"
      ]
     },
     "execution_count": 41,
     "metadata": {},
     "output_type": "execute_result"
    }
   ],
   "source": [
    "response"
   ]
  },
  {
   "cell_type": "markdown",
   "metadata": {},
   "source": [
    "# Sending Multiple Messages"
   ]
  },
  {
   "cell_type": "code",
   "execution_count": 42,
   "metadata": {},
   "outputs": [],
   "source": [
    "response = queue.send_messages(Entries=[\n",
    "    {\n",
    "        'Id': '1',\n",
    "        'MessageBody': 'world'\n",
    "    },\n",
    "    {\n",
    "        'Id': '2',\n",
    "        'MessageBody': 'boto3',\n",
    "        'MessageAttributes': {\n",
    "            'Author': {\n",
    "                'StringValue': 'Daniel',\n",
    "                'DataType': 'String'\n",
    "            }\n",
    "        }\n",
    "    }\n",
    "])"
   ]
  },
  {
   "cell_type": "code",
   "execution_count": 43,
   "metadata": {},
   "outputs": [
    {
     "data": {
      "text/plain": [
       "{'Successful': [{'Id': '1',\n",
       "   'MessageId': '13c70038-dc5c-4820-9723-5fce48a2c867',\n",
       "   'MD5OfMessageBody': '7d793037a0760186574b0282f2f435e7'},\n",
       "  {'Id': '2',\n",
       "   'MessageId': 'b576c6cc-bc46-4730-95f0-fc68c040e34d',\n",
       "   'MD5OfMessageBody': '6686853da3491a56c98917cc5c4ddea2',\n",
       "   'MD5OfMessageAttributes': 'd57be2825f78cdc7112c0f9dc4b21231'}],\n",
       " 'ResponseMetadata': {'RequestId': '55a46061-e619-52bd-812b-36b45814eba7',\n",
       "  'HTTPStatusCode': 200,\n",
       "  'HTTPHeaders': {'x-amzn-requestid': '55a46061-e619-52bd-812b-36b45814eba7',\n",
       "   'date': 'Sun, 01 Mar 2020 13:42:37 GMT',\n",
       "   'content-type': 'text/xml',\n",
       "   'content-length': '745'},\n",
       "  'RetryAttempts': 0}}"
      ]
     },
     "execution_count": 43,
     "metadata": {},
     "output_type": "execute_result"
    }
   ],
   "source": [
    "response"
   ]
  },
  {
   "cell_type": "markdown",
   "metadata": {},
   "source": [
    "# Receive and Delete Messages from a Queue¶"
   ]
  },
  {
   "cell_type": "code",
   "execution_count": 44,
   "metadata": {},
   "outputs": [],
   "source": [
    "import boto3\n",
    "client = boto3.client('sqs', region_name='us-east-1',\n",
    "                    aws_access_key_id=\"ACCESS KEY GOES HERE \", \n",
    "                    aws_secret_access_key=\"SECRET KEY GOES HERE \")"
   ]
  },
  {
   "cell_type": "code",
   "execution_count": 45,
   "metadata": {},
   "outputs": [],
   "source": [
    "QueueUrl = \"QUEU URL GOES HERE \""
   ]
  },
  {
   "cell_type": "code",
   "execution_count": 46,
   "metadata": {},
   "outputs": [],
   "source": [
    "response = client.receive_message(\n",
    "    QueueUrl=QueueUrl,\n",
    "    AttributeNames=[\n",
    "        'SentTimestamp'\n",
    "    ],\n",
    "    MaxNumberOfMessages=1,\n",
    "    MessageAttributeNames=[\n",
    "        'All'\n",
    "    ],\n",
    "    VisibilityTimeout=0,\n",
    "    WaitTimeSeconds=0\n",
    ")"
   ]
  },
  {
   "cell_type": "code",
   "execution_count": 47,
   "metadata": {},
   "outputs": [
    {
     "data": {
      "text/plain": [
       "{'Messages': [{'MessageId': '47d672e5-5e79-431f-9427-ced20b3a0147',\n",
       "   'ReceiptHandle': 'AQEB+3Kchuvfm9KSGzzTNBxP+9NH0CvWCr4O9K0KSVZf+sV3zkSFmcCGc2fzL/qIXgOilZayjj4sY2kMCMhIe2dKHrxLc1uyLBmHrVE5DHBKgTjyfBhOMnHqTEKh03+RyTg3/r8SvPcKitAuhQRFF8EGHCBipjVUXu6RcXnESXuxKsTL0YJfKe0reDe6y7Pm74TPxKemkZjjSIF0ad3b3BxAz0OI22FeBpIk0Pr2rqr9aR7TPTW29zwvQql0Biq04Oy4XJhemR1wxjFNFB4nYeDLvdQAukcC6BfMhhqRKy/h4wcXZV2TRy/3KSDFLUQdAh/aXu7sFxVf8Czs5RNNdmQ+/wgfrT7dAoxLBL6VvoKNilhtaIk4DMzrdzUeGk2X/G4i',\n",
       "   'MD5OfBody': 'eeb165f292fb4b7c8dbe4838b2940a6f',\n",
       "   'Body': 'Hello World from Python !',\n",
       "   'Attributes': {'SentTimestamp': '1583070118154'}}],\n",
       " 'ResponseMetadata': {'RequestId': 'ec5633d1-261a-5dc2-bb8e-65049846228a',\n",
       "  'HTTPStatusCode': 200,\n",
       "  'HTTPHeaders': {'x-amzn-requestid': 'ec5633d1-261a-5dc2-bb8e-65049846228a',\n",
       "   'date': 'Sun, 01 Mar 2020 13:43:56 GMT',\n",
       "   'content-type': 'text/xml',\n",
       "   'content-length': '929'},\n",
       "  'RetryAttempts': 0}}"
      ]
     },
     "execution_count": 47,
     "metadata": {},
     "output_type": "execute_result"
    }
   ],
   "source": [
    "response"
   ]
  },
  {
   "cell_type": "code",
   "execution_count": 48,
   "metadata": {},
   "outputs": [],
   "source": [
    "message = response['Messages'][0]\n"
   ]
  },
  {
   "cell_type": "code",
   "execution_count": 49,
   "metadata": {},
   "outputs": [
    {
     "data": {
      "text/plain": [
       "{'MessageId': '47d672e5-5e79-431f-9427-ced20b3a0147',\n",
       " 'ReceiptHandle': 'AQEB+3Kchuvfm9KSGzzTNBxP+9NH0CvWCr4O9K0KSVZf+sV3zkSFmcCGc2fzL/qIXgOilZayjj4sY2kMCMhIe2dKHrxLc1uyLBmHrVE5DHBKgTjyfBhOMnHqTEKh03+RyTg3/r8SvPcKitAuhQRFF8EGHCBipjVUXu6RcXnESXuxKsTL0YJfKe0reDe6y7Pm74TPxKemkZjjSIF0ad3b3BxAz0OI22FeBpIk0Pr2rqr9aR7TPTW29zwvQql0Biq04Oy4XJhemR1wxjFNFB4nYeDLvdQAukcC6BfMhhqRKy/h4wcXZV2TRy/3KSDFLUQdAh/aXu7sFxVf8Czs5RNNdmQ+/wgfrT7dAoxLBL6VvoKNilhtaIk4DMzrdzUeGk2X/G4i',\n",
       " 'MD5OfBody': 'eeb165f292fb4b7c8dbe4838b2940a6f',\n",
       " 'Body': 'Hello World from Python !',\n",
       " 'Attributes': {'SentTimestamp': '1583070118154'}}"
      ]
     },
     "execution_count": 49,
     "metadata": {},
     "output_type": "execute_result"
    }
   ],
   "source": [
    "message"
   ]
  },
  {
   "cell_type": "code",
   "execution_count": 50,
   "metadata": {},
   "outputs": [],
   "source": [
    "receipt_handle = message['ReceiptHandle']\n"
   ]
  },
  {
   "cell_type": "code",
   "execution_count": 51,
   "metadata": {},
   "outputs": [
    {
     "data": {
      "text/plain": [
       "'AQEB+3Kchuvfm9KSGzzTNBxP+9NH0CvWCr4O9K0KSVZf+sV3zkSFmcCGc2fzL/qIXgOilZayjj4sY2kMCMhIe2dKHrxLc1uyLBmHrVE5DHBKgTjyfBhOMnHqTEKh03+RyTg3/r8SvPcKitAuhQRFF8EGHCBipjVUXu6RcXnESXuxKsTL0YJfKe0reDe6y7Pm74TPxKemkZjjSIF0ad3b3BxAz0OI22FeBpIk0Pr2rqr9aR7TPTW29zwvQql0Biq04Oy4XJhemR1wxjFNFB4nYeDLvdQAukcC6BfMhhqRKy/h4wcXZV2TRy/3KSDFLUQdAh/aXu7sFxVf8Czs5RNNdmQ+/wgfrT7dAoxLBL6VvoKNilhtaIk4DMzrdzUeGk2X/G4i'"
      ]
     },
     "execution_count": 51,
     "metadata": {},
     "output_type": "execute_result"
    }
   ],
   "source": [
    "receipt_handle"
   ]
  },
  {
   "cell_type": "code",
   "execution_count": 52,
   "metadata": {},
   "outputs": [
    {
     "data": {
      "text/plain": [
       "{'ResponseMetadata': {'RequestId': 'e982b25e-cdb0-5777-b176-e48b73ca583f',\n",
       "  'HTTPStatusCode': 200,\n",
       "  'HTTPHeaders': {'x-amzn-requestid': 'e982b25e-cdb0-5777-b176-e48b73ca583f',\n",
       "   'date': 'Sun, 01 Mar 2020 13:44:26 GMT',\n",
       "   'content-type': 'text/xml',\n",
       "   'content-length': '215'},\n",
       "  'RetryAttempts': 0}}"
      ]
     },
     "execution_count": 52,
     "metadata": {},
     "output_type": "execute_result"
    }
   ],
   "source": [
    "client.delete_message(\n",
    "    QueueUrl=QueueUrl,\n",
    "    ReceiptHandle=receipt_handle\n",
    ")"
   ]
  },
  {
   "cell_type": "code",
   "execution_count": null,
   "metadata": {},
   "outputs": [],
   "source": []
  }
 ],
 "metadata": {
  "kernelspec": {
   "display_name": "Python 3",
   "language": "python",
   "name": "python3"
  },
  "language_info": {
   "codemirror_mode": {
    "name": "ipython",
    "version": 3
   },
   "file_extension": ".py",
   "mimetype": "text/x-python",
   "name": "python",
   "nbconvert_exporter": "python",
   "pygments_lexer": "ipython3",
   "version": "3.7.4"
  }
 },
 "nbformat": 4,
 "nbformat_minor": 2
}
